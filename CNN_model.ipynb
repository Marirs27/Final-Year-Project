{
 "cells": [
  {
   "cell_type": "code",
   "execution_count": 1,
   "metadata": {},
   "outputs": [],
   "source": [
    "import os\n",
    "import pandas as pd\n",
    "import pickle\n",
    "import numpy as np\n",
    "import seaborn as sns\n",
    "from sklearn.datasets import load_files\n",
    "from keras.utils import np_utils\n",
    "import matplotlib.pyplot as plt\n",
    "from keras.layers import Conv2D, MaxPooling2D, GlobalAveragePooling2D\n",
    "from keras.layers import Dropout, Flatten, Dense\n",
    "from keras.models import Sequential\n",
    "from keras.utils.vis_utils import plot_model\n",
    "from keras.callbacks import ModelCheckpoint\n",
    "from sklearn.metrics import confusion_matrix\n",
    "from keras.preprocessing import image                  \n",
    "from tqdm import tqdm\n",
    "\n",
    "import seaborn as sns\n",
    "from sklearn.metrics import accuracy_score,precision_score,recall_score,f1_score\n",
    "from tensorflow.keras.utils import to_categorical"
   ]
  },
  {
   "cell_type": "code",
   "execution_count": 2,
   "metadata": {},
   "outputs": [],
   "source": [
    "TEST_DIR = \"./data/imgs/test\"\n",
    "TRAIN_DIR = \"./data/imgs/train\"\n",
    "MODEL_PATH = os.path.join(os.getcwd(),\"model\",\"self_trained\")\n",
    "PICKLE_DIR = os.path.join(os.getcwd(),\"pickle_files\")\n",
    "CSV_DIR = os.path.join(os.getcwd(),\"csv_files\")"
   ]
  },
  {
   "cell_type": "code",
   "execution_count": 3,
   "metadata": {},
   "outputs": [],
   "source": [
    "if not os.path.exists(MODEL_PATH):\n",
    "    print(\"Model path does not exists\")\n",
    "    os.makedirs(MODEL_PATH)\n",
    "    print(\"Model path created\")\n",
    "if not os.path.exists(PICKLE_DIR):\n",
    "    os.makedirs(PICKLE_DIR)\n",
    "if not os.path.exists(CSV_DIR):\n",
    "    os.makedirs(CSV_DIR)"
   ]
  },
  {
   "cell_type": "code",
   "execution_count": 4,
   "metadata": {},
   "outputs": [],
   "source": [
    "def create_csv(DATA_DIR,filename):\n",
    "    class_names = os.listdir(DATA_DIR)\n",
    "    data = list()\n",
    "    if(os.path.isdir(os.path.join(DATA_DIR,class_names[0]))):\n",
    "        for class_name in class_names:\n",
    "            file_names = os.listdir(os.path.join(DATA_DIR,class_name))\n",
    "            for file in file_names:\n",
    "                data.append({\n",
    "                    \"Filename\":os.path.join(DATA_DIR,class_name,file),\n",
    "                    \"ClassName\":class_name\n",
    "                })\n",
    "    else:\n",
    "        class_name = \"test\"\n",
    "        file_names = os.listdir(DATA_DIR)\n",
    "        for file in file_names:\n",
    "            data.append(({\n",
    "                \"FileName\":os.path.join(DATA_DIR,file),\n",
    "                \"ClassName\":class_name\n",
    "            }))\n",
    "    data = pd.DataFrame(data)\n",
    "    data.to_csv(os.path.join(os.getcwd(),\"csv_files\",filename),index=False)\n",
    "\n",
    "create_csv(TRAIN_DIR,\"train.csv\")\n",
    "create_csv(TEST_DIR,\"test.csv\")\n",
    "data_train = pd.read_csv(os.path.join(os.getcwd(),\"csv_files\",\"train.csv\"))\n",
    "data_test = pd.read_csv(os.path.join(os.getcwd(),\"csv_files\",\"test.csv\"))"
   ]
  },
  {
   "cell_type": "code",
   "execution_count": 5,
   "metadata": {},
   "outputs": [
    {
     "name": "stdout",
     "output_type": "stream",
     "text": [
      "<class 'pandas.core.frame.DataFrame'>\n",
      "RangeIndex: 22664 entries, 0 to 22663\n",
      "Data columns (total 2 columns):\n",
      " #   Column     Non-Null Count  Dtype \n",
      "---  ------     --------------  ----- \n",
      " 0   Filename   22664 non-null  object\n",
      " 1   ClassName  22664 non-null  object\n",
      "dtypes: object(2)\n",
      "memory usage: 354.2+ KB\n"
     ]
    }
   ],
   "source": [
    "data_train.info()"
   ]
  },
  {
   "cell_type": "code",
   "execution_count": 6,
   "metadata": {},
   "outputs": [
    {
     "data": {
      "text/plain": [
       "c0    2513\n",
       "c3    2370\n",
       "c4    2350\n",
       "c6    2349\n",
       "c2    2341\n",
       "c5    2336\n",
       "c1    2291\n",
       "c9    2153\n",
       "c7    2026\n",
       "c8    1935\n",
       "Name: ClassName, dtype: int64"
      ]
     },
     "execution_count": 6,
     "metadata": {},
     "output_type": "execute_result"
    }
   ],
   "source": [
    "data_train['ClassName'].value_counts()"
   ]
  },
  {
   "cell_type": "code",
   "execution_count": 7,
   "metadata": {},
   "outputs": [
    {
     "name": "stdout",
     "output_type": "stream",
     "text": [
      "{'c6': 0, 'c7': 1, 'c3': 2, 'c1': 3, 'c2': 4, 'c9': 5, 'c0': 6, 'c5': 7, 'c8': 8, 'c4': 9}\n"
     ]
    }
   ],
   "source": [
    "labels_list = list(set(data_train['ClassName'].values.tolist()))\n",
    "labels_id = {label_name:id for id,label_name in enumerate(labels_list)}\n",
    "print(labels_id)\n",
    "data_train['ClassName'].replace(labels_id,inplace=True)"
   ]
  },
  {
   "cell_type": "code",
   "execution_count": 8,
   "metadata": {},
   "outputs": [],
   "source": [
    "with open(os.path.join(os.getcwd(),\"pickle_files\",\"labels_list.pkl\"),\"wb\") as handle:\n",
    "    pickle.dump(labels_id,handle)"
   ]
  },
  {
   "cell_type": "code",
   "execution_count": 9,
   "metadata": {},
   "outputs": [
    {
     "name": "stdout",
     "output_type": "stream",
     "text": [
      "(22664, 10)\n"
     ]
    }
   ],
   "source": [
    "labels = to_categorical(data_train['ClassName'])\n",
    "print(labels.shape)"
   ]
  },
  {
   "cell_type": "code",
   "execution_count": 10,
   "metadata": {},
   "outputs": [],
   "source": [
    "from sklearn.model_selection import train_test_split\n",
    "\n",
    "xtrain,xtest,ytrain,ytest = train_test_split(data_train.iloc[:,0],labels,test_size = 0.2,random_state=42)"
   ]
  },
  {
   "cell_type": "code",
   "execution_count": 11,
   "metadata": {},
   "outputs": [],
   "source": [
    "def path_to_tensor(img_path):\n",
    "    # loads RGB image as PIL.Image.Image type\n",
    "    img = image.load_img(img_path, target_size=(128, 128))\n",
    "    # convert PIL.Image.Image type to 3D tensor with shape (224, 224, 3)\n",
    "    x = image.img_to_array(img)\n",
    "    # convert 3D tensor to 4D tensor with shape (1, 224, 224, 3) and return 4D tensor\n",
    "    return np.expand_dims(x, axis=0)\n",
    "\n",
    "def paths_to_tensor(img_paths):\n",
    "    list_of_tensors = [path_to_tensor(img_path) for img_path in tqdm(img_paths)]\n",
    "    return np.vstack(list_of_tensors)"
   ]
  },
  {
   "cell_type": "code",
   "execution_count": 12,
   "metadata": {},
   "outputs": [
    {
     "name": "stderr",
     "output_type": "stream",
     "text": [
      "100%|██████████| 18131/18131 [01:09<00:00, 261.65it/s]\n"
     ]
    }
   ],
   "source": [
    "from PIL import ImageFile                            \n",
    "ImageFile.LOAD_TRUNCATED_IMAGES = True                 \n",
    "\n",
    "# pre-process the data for Keras\n",
    "train_tensors = paths_to_tensor(xtrain).astype('float32')/255 - 0.5"
   ]
  },
  {
   "cell_type": "code",
   "execution_count": 13,
   "metadata": {},
   "outputs": [
    {
     "name": "stderr",
     "output_type": "stream",
     "text": [
      "100%|██████████| 4533/4533 [00:24<00:00, 188.22it/s]\n"
     ]
    }
   ],
   "source": [
    "valid_tensors = paths_to_tensor(xtest).astype('float32')/255 - 0.5"
   ]
  },
  {
   "cell_type": "code",
   "execution_count": 14,
   "metadata": {},
   "outputs": [
    {
     "name": "stdout",
     "output_type": "stream",
     "text": [
      "Model: \"sequential\"\n",
      "_________________________________________________________________\n",
      "Layer (type)                 Output Shape              Param #   \n",
      "=================================================================\n",
      "conv2d (Conv2D)              (None, 128, 128, 64)      832       \n",
      "_________________________________________________________________\n",
      "max_pooling2d (MaxPooling2D) (None, 64, 64, 64)        0         \n",
      "_________________________________________________________________\n",
      "conv2d_1 (Conv2D)            (None, 64, 64, 128)       32896     \n",
      "_________________________________________________________________\n",
      "max_pooling2d_1 (MaxPooling2 (None, 32, 32, 128)       0         \n",
      "_________________________________________________________________\n",
      "conv2d_2 (Conv2D)            (None, 32, 32, 256)       131328    \n",
      "_________________________________________________________________\n",
      "max_pooling2d_2 (MaxPooling2 (None, 16, 16, 256)       0         \n",
      "_________________________________________________________________\n",
      "conv2d_3 (Conv2D)            (None, 16, 16, 512)       524800    \n",
      "_________________________________________________________________\n",
      "max_pooling2d_3 (MaxPooling2 (None, 8, 8, 512)         0         \n",
      "_________________________________________________________________\n",
      "dropout (Dropout)            (None, 8, 8, 512)         0         \n",
      "_________________________________________________________________\n",
      "flatten (Flatten)            (None, 32768)             0         \n",
      "_________________________________________________________________\n",
      "dense (Dense)                (None, 500)               16384500  \n",
      "_________________________________________________________________\n",
      "dropout_1 (Dropout)          (None, 500)               0         \n",
      "_________________________________________________________________\n",
      "dense_1 (Dense)              (None, 10)                5010      \n",
      "=================================================================\n",
      "Total params: 17,079,366\n",
      "Trainable params: 17,079,366\n",
      "Non-trainable params: 0\n",
      "_________________________________________________________________\n"
     ]
    }
   ],
   "source": [
    "model = Sequential()\n",
    "\n",
    "model.add(Conv2D(filters=64, kernel_size=2, padding='same', activation='relu', input_shape=(128,128,3), kernel_initializer='glorot_normal'))\n",
    "model.add(MaxPooling2D(pool_size=2))\n",
    "model.add(Conv2D(filters=128, kernel_size=2, padding='same', activation='relu', kernel_initializer='glorot_normal'))\n",
    "model.add(MaxPooling2D(pool_size=2))\n",
    "model.add(Conv2D(filters=256, kernel_size=2, padding='same', activation='relu', kernel_initializer='glorot_normal'))\n",
    "model.add(MaxPooling2D(pool_size=2))\n",
    "model.add(Conv2D(filters=512, kernel_size=2, padding='same', activation='relu', kernel_initializer='glorot_normal'))\n",
    "model.add(MaxPooling2D(pool_size=2))\n",
    "model.add(Dropout(0.5))\n",
    "model.add(Flatten())\n",
    "model.add(Dense(500, activation='relu', kernel_initializer='glorot_normal'))\n",
    "model.add(Dropout(0.5))\n",
    "model.add(Dense(10, activation='softmax', kernel_initializer='glorot_normal'))\n",
    "\n",
    "\n",
    "model.summary()"
   ]
  },
  {
   "cell_type": "code",
   "execution_count": 15,
   "metadata": {},
   "outputs": [],
   "source": [
    "model.compile(optimizer='rmsprop', loss='categorical_crossentropy', metrics=['accuracy'])"
   ]
  },
  {
   "cell_type": "code",
   "execution_count": 16,
   "metadata": {},
   "outputs": [
    {
     "name": "stdout",
     "output_type": "stream",
     "text": [
      "WARNING:tensorflow:`period` argument is deprecated. Please use `save_freq` to specify the frequency in number of batches seen.\n"
     ]
    }
   ],
   "source": [
    "filepath = os.path.join(MODEL_PATH,\"distracted-{epoch:02d}-{val_accuracy:.2f}.hdf5\")\n",
    "checkpoint = ModelCheckpoint(filepath, monitor='val_accuracy', verbose=1, save_best_only=True, mode='max',period=1)\n",
    "callbacks_list = [checkpoint]"
   ]
  },
  {
   "cell_type": "code",
   "execution_count": 17,
   "metadata": {},
   "outputs": [
    {
     "name": "stdout",
     "output_type": "stream",
     "text": [
      "Epoch 1/25\n",
      "454/454 [==============================] - 785s 2s/step - loss: 1.7624 - accuracy: 0.4500 - val_loss: 0.2940 - val_accuracy: 0.9146\n",
      "\n",
      "Epoch 00001: val_accuracy improved from -inf to 0.91463, saving model to c:\\Users\\SRIRAM\\OneDrive\\Documents\\Personal\\Academics\\Final_Year_Project\\Final-Year-Project\\model\\self_trained\\distracted-01-0.91.hdf5\n",
      "Epoch 2/25\n",
      "454/454 [==============================] - 731s 2s/step - loss: 0.2580 - accuracy: 0.9277 - val_loss: 0.1259 - val_accuracy: 0.9658\n",
      "\n",
      "Epoch 00002: val_accuracy improved from 0.91463 to 0.96581, saving model to c:\\Users\\SRIRAM\\OneDrive\\Documents\\Personal\\Academics\\Final_Year_Project\\Final-Year-Project\\model\\self_trained\\distracted-02-0.97.hdf5\n",
      "Epoch 3/25\n",
      "454/454 [==============================] - 726s 2s/step - loss: 0.1305 - accuracy: 0.9634 - val_loss: 0.0773 - val_accuracy: 0.9804\n",
      "\n",
      "Epoch 00003: val_accuracy improved from 0.96581 to 0.98037, saving model to c:\\Users\\SRIRAM\\OneDrive\\Documents\\Personal\\Academics\\Final_Year_Project\\Final-Year-Project\\model\\self_trained\\distracted-03-0.98.hdf5\n",
      "Epoch 4/25\n",
      "454/454 [==============================] - 726s 2s/step - loss: 0.0960 - accuracy: 0.9687 - val_loss: 0.1104 - val_accuracy: 0.9771\n",
      "\n",
      "Epoch 00004: val_accuracy did not improve from 0.98037\n",
      "Epoch 5/25\n",
      "454/454 [==============================] - 725s 2s/step - loss: 0.0798 - accuracy: 0.9773 - val_loss: 0.0813 - val_accuracy: 0.9835\n",
      "\n",
      "Epoch 00005: val_accuracy improved from 0.98037 to 0.98345, saving model to c:\\Users\\SRIRAM\\OneDrive\\Documents\\Personal\\Academics\\Final_Year_Project\\Final-Year-Project\\model\\self_trained\\distracted-05-0.98.hdf5\n",
      "Epoch 6/25\n",
      "454/454 [==============================] - 730s 2s/step - loss: 0.0701 - accuracy: 0.9800 - val_loss: 0.1340 - val_accuracy: 0.9735\n",
      "\n",
      "Epoch 00006: val_accuracy did not improve from 0.98345\n",
      "Epoch 7/25\n",
      "454/454 [==============================] - 728s 2s/step - loss: 0.0688 - accuracy: 0.9804 - val_loss: 0.0879 - val_accuracy: 0.9826\n",
      "\n",
      "Epoch 00007: val_accuracy did not improve from 0.98345\n",
      "Epoch 8/25\n",
      "454/454 [==============================] - 726s 2s/step - loss: 0.0558 - accuracy: 0.9839 - val_loss: 0.0594 - val_accuracy: 0.9870\n",
      "\n",
      "Epoch 00008: val_accuracy improved from 0.98345 to 0.98698, saving model to c:\\Users\\SRIRAM\\OneDrive\\Documents\\Personal\\Academics\\Final_Year_Project\\Final-Year-Project\\model\\self_trained\\distracted-08-0.99.hdf5\n",
      "Epoch 9/25\n",
      "454/454 [==============================] - 731s 2s/step - loss: 0.0635 - accuracy: 0.9834 - val_loss: 0.0603 - val_accuracy: 0.9857\n",
      "\n",
      "Epoch 00009: val_accuracy did not improve from 0.98698\n",
      "Epoch 10/25\n",
      "454/454 [==============================] - 726s 2s/step - loss: 0.0541 - accuracy: 0.9862 - val_loss: 0.1096 - val_accuracy: 0.9870\n",
      "\n",
      "Epoch 00010: val_accuracy did not improve from 0.98698\n",
      "Epoch 11/25\n",
      "454/454 [==============================] - 731s 2s/step - loss: 0.0563 - accuracy: 0.9836 - val_loss: 0.1011 - val_accuracy: 0.9850\n",
      "\n",
      "Epoch 00011: val_accuracy did not improve from 0.98698\n",
      "Epoch 12/25\n",
      "454/454 [==============================] - 726s 2s/step - loss: 0.0578 - accuracy: 0.9845 - val_loss: 0.0942 - val_accuracy: 0.9865\n",
      "\n",
      "Epoch 00012: val_accuracy did not improve from 0.98698\n",
      "Epoch 13/25\n",
      "454/454 [==============================] - 723s 2s/step - loss: 0.0491 - accuracy: 0.9875 - val_loss: 0.0795 - val_accuracy: 0.9852\n",
      "\n",
      "Epoch 00013: val_accuracy did not improve from 0.98698\n",
      "Epoch 14/25\n",
      "454/454 [==============================] - 728s 2s/step - loss: 0.0600 - accuracy: 0.9859 - val_loss: 0.1718 - val_accuracy: 0.9817\n",
      "\n",
      "Epoch 00014: val_accuracy did not improve from 0.98698\n",
      "Epoch 15/25\n",
      "454/454 [==============================] - 724s 2s/step - loss: 0.0693 - accuracy: 0.9838 - val_loss: 0.0997 - val_accuracy: 0.9797\n",
      "\n",
      "Epoch 00015: val_accuracy did not improve from 0.98698\n",
      "Epoch 16/25\n",
      "454/454 [==============================] - 726s 2s/step - loss: 0.0655 - accuracy: 0.9833 - val_loss: 0.1119 - val_accuracy: 0.9832\n",
      "\n",
      "Epoch 00016: val_accuracy did not improve from 0.98698\n",
      "Epoch 17/25\n",
      "454/454 [==============================] - 730s 2s/step - loss: 0.0558 - accuracy: 0.9857 - val_loss: 0.1203 - val_accuracy: 0.9874\n",
      "\n",
      "Epoch 00017: val_accuracy improved from 0.98698 to 0.98743, saving model to c:\\Users\\SRIRAM\\OneDrive\\Documents\\Personal\\Academics\\Final_Year_Project\\Final-Year-Project\\model\\self_trained\\distracted-17-0.99.hdf5\n",
      "Epoch 18/25\n",
      "454/454 [==============================] - 707s 2s/step - loss: 0.0655 - accuracy: 0.9855 - val_loss: 0.0700 - val_accuracy: 0.9817\n",
      "\n",
      "Epoch 00018: val_accuracy did not improve from 0.98743\n",
      "Epoch 19/25\n",
      "454/454 [==============================] - 702s 2s/step - loss: 0.0774 - accuracy: 0.9838 - val_loss: 0.1128 - val_accuracy: 0.9861\n",
      "\n",
      "Epoch 00019: val_accuracy did not improve from 0.98743\n",
      "Epoch 20/25\n",
      "454/454 [==============================] - 697s 2s/step - loss: 0.0777 - accuracy: 0.9830 - val_loss: 0.1132 - val_accuracy: 0.9861\n",
      "\n",
      "Epoch 00020: val_accuracy did not improve from 0.98743\n",
      "Epoch 21/25\n",
      "454/454 [==============================] - 699s 2s/step - loss: 0.0780 - accuracy: 0.9835 - val_loss: 0.1964 - val_accuracy: 0.9852\n",
      "\n",
      "Epoch 00021: val_accuracy did not improve from 0.98743\n",
      "Epoch 22/25\n",
      "454/454 [==============================] - 696s 2s/step - loss: 0.0728 - accuracy: 0.9843 - val_loss: 0.0773 - val_accuracy: 0.9870\n",
      "\n",
      "Epoch 00022: val_accuracy did not improve from 0.98743\n",
      "Epoch 23/25\n",
      "454/454 [==============================] - 702s 2s/step - loss: 0.0838 - accuracy: 0.9841 - val_loss: 0.1137 - val_accuracy: 0.9852\n",
      "\n",
      "Epoch 00023: val_accuracy did not improve from 0.98743\n",
      "Epoch 24/25\n",
      "454/454 [==============================] - 698s 2s/step - loss: 0.0826 - accuracy: 0.9849 - val_loss: 0.1897 - val_accuracy: 0.9857\n",
      "\n",
      "Epoch 00024: val_accuracy did not improve from 0.98743\n",
      "Epoch 25/25\n",
      "454/454 [==============================] - 694s 2s/step - loss: 0.0778 - accuracy: 0.9860 - val_loss: 0.1365 - val_accuracy: 0.9881\n",
      "\n",
      "Epoch 00025: val_accuracy improved from 0.98743 to 0.98809, saving model to c:\\Users\\SRIRAM\\OneDrive\\Documents\\Personal\\Academics\\Final_Year_Project\\Final-Year-Project\\model\\self_trained\\distracted-25-0.99.hdf5\n"
     ]
    }
   ],
   "source": [
    "model_history = model.fit(train_tensors,ytrain,validation_data = (valid_tensors, ytest),epochs=25, batch_size=40, shuffle=True,callbacks=callbacks_list)"
   ]
  },
  {
   "cell_type": "code",
   "execution_count": 18,
   "metadata": {},
   "outputs": [
    {
     "data": {
      "image/png": "[encoded data removed]",
      "text/plain": [
       "<Figure size 864x864 with 2 Axes>"
      ]
     },
     "metadata": {
      "needs_background": "light"
     },
     "output_type": "display_data"
    }
   ],
   "source": [
    "from keras.models import load_model\n",
    "fig, (ax1, ax2) = plt.subplots(2, 1, figsize=(12, 12))\n",
    "ax1.plot(model_history.history['loss'], color='b', label=\"Training loss\")\n",
    "ax1.plot(model_history.history['val_loss'], color='r', label=\"validation loss\")\n",
    "ax1.set_xticks(np.arange(1, 25, 1))\n",
    "ax1.set_yticks(np.arange(0, 1, 0.1))\n",
    "\n",
    "ax2.plot(model_history.history['accuracy'], color='b', label=\"Training accuracy\")\n",
    "ax2.plot(model_history.history['val_accuracy'], color='r',label=\"Validation accuracy\")\n",
    "ax2.set_xticks(np.arange(1, 25, 1))\n",
    "\n",
    "legend = plt.legend(loc='best', shadow=True)\n",
    "plt.tight_layout()\n",
    "plt.show()"
   ]
  },
  {
   "cell_type": "code",
   "execution_count": 19,
   "metadata": {},
   "outputs": [],
   "source": [
    "def print_confusion_matrix(confusion_matrix, class_names, figsize = (10,7), fontsize=14):\n",
    "    df_cm = pd.DataFrame(\n",
    "        confusion_matrix, index=class_names, columns=class_names, \n",
    "    )\n",
    "    fig = plt.figure(figsize=figsize)\n",
    "    try:\n",
    "        heatmap = sns.heatmap(df_cm, annot=True, fmt=\"d\")\n",
    "    except ValueError:\n",
    "        raise ValueError(\"Confusion matrix values must be integers.\")\n",
    "    heatmap.yaxis.set_ticklabels(heatmap.yaxis.get_ticklabels(), rotation=0, ha='right', fontsize=fontsize)\n",
    "    heatmap.xaxis.set_ticklabels(heatmap.xaxis.get_ticklabels(), rotation=45, ha='right', fontsize=fontsize)\n",
    "    plt.ylabel('True label')\n",
    "    plt.xlabel('Predicted label')\n",
    "    fig.savefig(os.path.join(MODEL_PATH,\"confusion_matrix.png\"))\n",
    "    return fig"
   ]
  },
  {
   "cell_type": "code",
   "execution_count": 20,
   "metadata": {},
   "outputs": [],
   "source": [
    "def print_heatmap(n_labels, n_predictions, class_names):\n",
    "    labels = n_labels #sess.run(tf.argmax(n_labels, 1))\n",
    "    predictions = n_predictions #sess.run(tf.argmax(n_predictions, 1))\n",
    "\n",
    "#     confusion_matrix = sess.run(tf.contrib.metrics.confusion_matrix(labels, predictions))\n",
    "    matrix = confusion_matrix(labels.argmax(axis=1),predictions.argmax(axis=1))\n",
    "    row_sum = np.sum(matrix, axis = 1)\n",
    "    w, h = matrix.shape\n",
    "\n",
    "    c_m = np.zeros((w, h))\n",
    "\n",
    "    for i in range(h):\n",
    "        c_m[i] = matrix[i] * 100 / row_sum[i]\n",
    "\n",
    "    c = c_m.astype(dtype = np.uint8)\n",
    "\n",
    "    \n",
    "    heatmap = print_confusion_matrix(c, class_names, figsize=(18,10), fontsize=20)"
   ]
  },
  {
   "cell_type": "code",
   "execution_count": 21,
   "metadata": {},
   "outputs": [],
   "source": [
    "class_names = list()\n",
    "for name,idx in labels_id.items():\n",
    "    class_names.append(name)\n",
    "# print(class_names)\n",
    "ypred = model.predict(valid_tensors)"
   ]
  },
  {
   "cell_type": "code",
   "execution_count": 27,
   "metadata": {},
   "outputs": [
    {
     "data": {
      "image/png": "[encoded data removed]",
      "text/plain": [
       "<Figure size 1296x720 with 2 Axes>"
      ]
     },
     "metadata": {
      "needs_background": "light"
     },
     "output_type": "display_data"
    }
   ],
   "source": [
    "print_heatmap(ytest,ypred,class_names)"
   ]
  },
  {
   "cell_type": "code",
   "execution_count": 22,
   "metadata": {},
   "outputs": [],
   "source": [
    "ypred_class = np.argmax(ypred,axis=1)\n",
    "# print(ypred_class[:10])\n",
    "ytest = np.argmax(ytest,axis=1)"
   ]
  },
  {
   "cell_type": "code",
   "execution_count": 23,
   "metadata": {},
   "outputs": [
    {
     "name": "stdout",
     "output_type": "stream",
     "text": [
      "Accuracy: 0.988087\n",
      "Precision: 0.988122\n",
      "Recall: 0.988087\n",
      "F1 score: 0.988083\n"
     ]
    }
   ],
   "source": [
    "accuracy = accuracy_score(ytest,ypred_class)\n",
    "print('Accuracy: %f' % accuracy)\n",
    "# precision tp / (tp + fp)\n",
    "precision = precision_score(ytest, ypred_class,average='weighted')\n",
    "print('Precision: %f' % precision)\n",
    "# recall: tp / (tp + fn)\n",
    "recall = recall_score(ytest,ypred_class,average='weighted')\n",
    "print('Recall: %f' % recall)\n",
    "# f1: 2 tp / (2 tp + fp + fn)\n",
    "f1 = f1_score(ytest,ypred_class,average='weighted')\n",
    "print('F1 score: %f' % f1)"
   ]
  }
 ],
 "metadata": {
  "interpreter": {
   "hash": "94b759bce3ec57a220ada410a8d504e00880875d47611acbbf97ee54ad47af53"
  },
  "kernelspec": {
   "display_name": "Python 3.9.5 64-bit",
   "language": "python",
   "name": "python3"
  },
  "language_info": {
   "codemirror_mode": {
    "name": "ipython",
    "version": 3
   },
   "file_extension": ".py",
   "mimetype": "text/x-python",
   "name": "python",
   "nbconvert_exporter": "python",
   "pygments_lexer": "ipython3",
   "version": "3.9.5"
  },
  "orig_nbformat": 4
 },
 "nbformat": 4,
 "nbformat_minor": 2
}
