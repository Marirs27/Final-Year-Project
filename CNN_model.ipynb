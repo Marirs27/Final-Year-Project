{
 "cells": [
  {
   "cell_type": "code",
   "execution_count": 3,
   "metadata": {},
   "outputs": [],
   "source": [
    "import os\n",
    "import pandas as pd\n",
    "import pickle\n",
    "import numpy as np\n",
    "import seaborn as sns\n",
    "from sklearn.datasets import load_files\n",
    "from keras.utils import np_utils\n",
    "import matplotlib.pyplot as plt\n",
    "from keras.layers import Conv2D, MaxPooling2D, GlobalAveragePooling2D\n",
    "from keras.layers import Dropout, Flatten, Dense\n",
    "from keras.models import Sequential\n",
    "from keras.utils.vis_utils import plot_model\n",
    "from keras.callbacks import ModelCheckpoint\n",
    "from sklearn.metrics import confusion_matrix\n",
    "from keras.preprocessing import image                  \n",
    "from tqdm import tqdm\n",
    "\n",
    "import seaborn as sns\n",
    "from sklearn.metrics import accuracy_score,precision_score,recall_score,f1_score\n",
    "from tensorflow.keras.utils import to_categorical"
   ]
  },
  {
   "cell_type": "code",
   "execution_count": 17,
   "metadata": {},
   "outputs": [],
   "source": [
    "TEST_DIR = \"./data/imgs/test\"\n",
    "TRAIN_DIR = \"./data/imgs/train\"\n",
    "MODEL_PATH = os.path.join(os.getcwd(),\"model\",\"self_trained\")\n",
    "PICKLE_DIR = os.path.join(os.getcwd(),\"pickle_files\")\n",
    "CSV_DIR = os.path.join(os.getcwd(),\"csv_files\")"
   ]
  },
  {
   "cell_type": "code",
   "execution_count": 25,
   "metadata": {},
   "outputs": [
    {
     "name": "stdout",
     "output_type": "stream",
     "text": [
      "Model path does not exists\n",
      "Model path created\n"
     ]
    }
   ],
   "source": [
    "if not os.path.exists(MODEL_PATH):\n",
    "    print(\"Model path does not exists\")\n",
    "    os.makedirs(MODEL_PATH)\n",
    "    print(\"Model path created\")\n",
    "if not os.path.exists(PICKLE_DIR):\n",
    "    os.makedirs(PICKLE_DIR)\n",
    "if not os.path.exists(CSV_DIR):\n",
    "    os.makedirs(CSV_DIR)"
   ]
  },
  {
   "cell_type": "code",
   "execution_count": 5,
   "metadata": {},
   "outputs": [],
   "source": [
    "def create_csv(DATA_DIR,filename):\n",
    "    class_names = os.listdir(DATA_DIR)\n",
    "    data = list()\n",
    "    if(os.path.isdir(os.path.join(DATA_DIR,class_names[0]))):\n",
    "        for class_name in class_names:\n",
    "            file_names = os.listdir(os.path.join(DATA_DIR,class_name))\n",
    "            for file in file_names:\n",
    "                data.append({\n",
    "                    \"Filename\":os.path.join(DATA_DIR,class_name,file),\n",
    "                    \"ClassName\":class_name\n",
    "                })\n",
    "    else:\n",
    "        class_name = \"test\"\n",
    "        file_names = os.listdir(DATA_DIR)\n",
    "        for file in file_names:\n",
    "            data.append(({\n",
    "                \"FileName\":os.path.join(DATA_DIR,file),\n",
    "                \"ClassName\":class_name\n",
    "            }))\n",
    "    data = pd.DataFrame(data)\n",
    "    data.to_csv(os.path.join(os.getcwd(),\"csv_files\",filename),index=False)\n",
    "\n",
    "create_csv(TRAIN_DIR,\"train.csv\")\n",
    "create_csv(TEST_DIR,\"test.csv\")\n",
    "data_train = pd.read_csv(os.path.join(os.getcwd(),\"csv_files\",\"train.csv\"))\n",
    "data_test = pd.read_csv(os.path.join(os.getcwd(),\"csv_files\",\"test.csv\"))"
   ]
  },
  {
   "cell_type": "code",
   "execution_count": 6,
   "metadata": {},
   "outputs": [
    {
     "name": "stdout",
     "output_type": "stream",
     "text": [
      "<class 'pandas.core.frame.DataFrame'>\n",
      "RangeIndex: 22424 entries, 0 to 22423\n",
      "Data columns (total 2 columns):\n",
      " #   Column     Non-Null Count  Dtype \n",
      "---  ------     --------------  ----- \n",
      " 0   Filename   22424 non-null  object\n",
      " 1   ClassName  22424 non-null  object\n",
      "dtypes: object(2)\n",
      "memory usage: 350.5+ KB\n"
     ]
    }
   ],
   "source": [
    "data_train.info()"
   ]
  },
  {
   "cell_type": "code",
   "execution_count": 7,
   "metadata": {},
   "outputs": [
    {
     "data": {
      "text/plain": [
       "c0    2489\n",
       "c3    2346\n",
       "c4    2326\n",
       "c6    2325\n",
       "c2    2317\n",
       "c5    2312\n",
       "c1    2267\n",
       "c9    2129\n",
       "c7    2002\n",
       "c8    1911\n",
       "Name: ClassName, dtype: int64"
      ]
     },
     "execution_count": 7,
     "metadata": {},
     "output_type": "execute_result"
    }
   ],
   "source": [
    "data_train['ClassName'].value_counts()"
   ]
  },
  {
   "cell_type": "code",
   "execution_count": 8,
   "metadata": {},
   "outputs": [
    {
     "name": "stdout",
     "output_type": "stream",
     "text": [
      "{'c3': 0, 'c9': 1, 'c2': 2, 'c4': 3, 'c6': 4, 'c1': 5, 'c8': 6, 'c5': 7, 'c0': 8, 'c7': 9}\n"
     ]
    }
   ],
   "source": [
    "labels_list = list(set(data_train['ClassName'].values.tolist()))\n",
    "labels_id = {label_name:id for id,label_name in enumerate(labels_list)}\n",
    "print(labels_id)\n",
    "data_train['ClassName'].replace(labels_id,inplace=True)"
   ]
  },
  {
   "cell_type": "code",
   "execution_count": 9,
   "metadata": {},
   "outputs": [],
   "source": [
    "with open(os.path.join(os.getcwd(),\"pickle_files\",\"labels_list.pkl\"),\"wb\") as handle:\n",
    "    pickle.dump(labels_id,handle)"
   ]
  },
  {
   "cell_type": "code",
   "execution_count": 10,
   "metadata": {},
   "outputs": [
    {
     "name": "stdout",
     "output_type": "stream",
     "text": [
      "(22424, 10)\n"
     ]
    }
   ],
   "source": [
    "labels = to_categorical(data_train['ClassName'])\n",
    "print(labels.shape)"
   ]
  },
  {
   "cell_type": "code",
   "execution_count": 11,
   "metadata": {},
   "outputs": [],
   "source": [
    "from sklearn.model_selection import train_test_split\n",
    "\n",
    "xtrain,xtest,ytrain,ytest = train_test_split(data_train.iloc[:,0],labels,test_size = 0.2,random_state=42)"
   ]
  },
  {
   "cell_type": "code",
   "execution_count": 12,
   "metadata": {},
   "outputs": [],
   "source": [
    "def path_to_tensor(img_path):\n",
    "    # loads RGB image as PIL.Image.Image type\n",
    "    img = image.load_img(img_path, target_size=(128, 128))\n",
    "    # convert PIL.Image.Image type to 3D tensor with shape (224, 224, 3)\n",
    "    x = image.img_to_array(img)\n",
    "    # convert 3D tensor to 4D tensor with shape (1, 224, 224, 3) and return 4D tensor\n",
    "    return np.expand_dims(x, axis=0)\n",
    "\n",
    "def paths_to_tensor(img_paths):\n",
    "    list_of_tensors = [path_to_tensor(img_path) for img_path in tqdm(img_paths)]\n",
    "    return np.vstack(list_of_tensors)"
   ]
  },
  {
   "cell_type": "code",
   "execution_count": 13,
   "metadata": {},
   "outputs": [
    {
     "name": "stderr",
     "output_type": "stream",
     "text": [
      "100%|██████████| 17939/17939 [01:34<00:00, 189.77it/s]\n"
     ]
    }
   ],
   "source": [
    "from PIL import ImageFile                            \n",
    "ImageFile.LOAD_TRUNCATED_IMAGES = True                 \n",
    "\n",
    "# pre-process the data for Keras\n",
    "train_tensors = paths_to_tensor(xtrain).astype('float32')/255 - 0.5"
   ]
  },
  {
   "cell_type": "code",
   "execution_count": 14,
   "metadata": {},
   "outputs": [
    {
     "name": "stderr",
     "output_type": "stream",
     "text": [
      "100%|██████████| 4485/4485 [00:24<00:00, 186.18it/s]\n"
     ]
    }
   ],
   "source": [
    "valid_tensors = paths_to_tensor(xtest).astype('float32')/255 - 0.5"
   ]
  },
  {
   "cell_type": "code",
   "execution_count": 15,
   "metadata": {},
   "outputs": [
    {
     "name": "stdout",
     "output_type": "stream",
     "text": [
      "Model: \"sequential\"\n",
      "_________________________________________________________________\n",
      "Layer (type)                 Output Shape              Param #   \n",
      "=================================================================\n",
      "conv2d (Conv2D)              (None, 128, 128, 64)      832       \n",
      "_________________________________________________________________\n",
      "max_pooling2d (MaxPooling2D) (None, 64, 64, 64)        0         \n",
      "_________________________________________________________________\n",
      "conv2d_1 (Conv2D)            (None, 64, 64, 128)       32896     \n",
      "_________________________________________________________________\n",
      "max_pooling2d_1 (MaxPooling2 (None, 32, 32, 128)       0         \n",
      "_________________________________________________________________\n",
      "conv2d_2 (Conv2D)            (None, 32, 32, 256)       131328    \n",
      "_________________________________________________________________\n",
      "max_pooling2d_2 (MaxPooling2 (None, 16, 16, 256)       0         \n",
      "_________________________________________________________________\n",
      "conv2d_3 (Conv2D)            (None, 16, 16, 512)       524800    \n",
      "_________________________________________________________________\n",
      "max_pooling2d_3 (MaxPooling2 (None, 8, 8, 512)         0         \n",
      "_________________________________________________________________\n",
      "dropout (Dropout)            (None, 8, 8, 512)         0         \n",
      "_________________________________________________________________\n",
      "flatten (Flatten)            (None, 32768)             0         \n",
      "_________________________________________________________________\n",
      "dense (Dense)                (None, 500)               16384500  \n",
      "_________________________________________________________________\n",
      "dropout_1 (Dropout)          (None, 500)               0         \n",
      "_________________________________________________________________\n",
      "dense_1 (Dense)              (None, 10)                5010      \n",
      "=================================================================\n",
      "Total params: 17,079,366\n",
      "Trainable params: 17,079,366\n",
      "Non-trainable params: 0\n",
      "_________________________________________________________________\n"
     ]
    }
   ],
   "source": [
    "model = Sequential()\n",
    "\n",
    "model.add(Conv2D(filters=64, kernel_size=2, padding='same', activation='relu', input_shape=(128,128,3), kernel_initializer='glorot_normal'))\n",
    "model.add(MaxPooling2D(pool_size=2))\n",
    "model.add(Conv2D(filters=128, kernel_size=2, padding='same', activation='relu', kernel_initializer='glorot_normal'))\n",
    "model.add(MaxPooling2D(pool_size=2))\n",
    "model.add(Conv2D(filters=256, kernel_size=2, padding='same', activation='relu', kernel_initializer='glorot_normal'))\n",
    "model.add(MaxPooling2D(pool_size=2))\n",
    "model.add(Conv2D(filters=512, kernel_size=2, padding='same', activation='relu', kernel_initializer='glorot_normal'))\n",
    "model.add(MaxPooling2D(pool_size=2))\n",
    "model.add(Dropout(0.5))\n",
    "model.add(Flatten())\n",
    "model.add(Dense(500, activation='relu', kernel_initializer='glorot_normal'))\n",
    "model.add(Dropout(0.5))\n",
    "model.add(Dense(10, activation='softmax', kernel_initializer='glorot_normal'))\n",
    "\n",
    "\n",
    "model.summary()"
   ]
  },
  {
   "cell_type": "code",
   "execution_count": 20,
   "metadata": {},
   "outputs": [],
   "source": [
    "model.compile(optimizer='rmsprop', loss='categorical_crossentropy', metrics=['accuracy'])"
   ]
  },
  {
   "cell_type": "code",
   "execution_count": 35,
   "metadata": {},
   "outputs": [
    {
     "name": "stdout",
     "output_type": "stream",
     "text": [
      "WARNING:tensorflow:`period` argument is deprecated. Please use `save_freq` to specify the frequency in number of batches seen.\n"
     ]
    }
   ],
   "source": [
    "filepath = os.path.join(MODEL_PATH,\"distracted-{epoch:02d}-{val_accuracy:.2f}.hdf5\")\n",
    "checkpoint = ModelCheckpoint(filepath, monitor='val_accuracy', verbose=1, save_best_only=True, mode='max',period=1)\n",
    "callbacks_list = [checkpoint]"
   ]
  },
  {
   "cell_type": "code",
   "execution_count": 36,
   "metadata": {},
   "outputs": [
    {
     "name": "stdout",
     "output_type": "stream",
     "text": [
      "Epoch 1/25\n",
      "449/449 [==============================] - 1237s 3s/step - loss: 0.8458 - accuracy: 0.7127 - val_loss: 0.1605 - val_accuracy: 0.9572\n",
      "\n",
      "Epoch 00001: val_accuracy improved from -inf to 0.95719, saving model to c:\\Users\\SRIRAM\\OneDrive\\Documents\\Personal\\Academics\\Final_Year_Project\\Final-Year-Project\\model\\self_trained\\distracted-01-0.96.hdf5\n",
      "Epoch 2/25\n",
      "449/449 [==============================] - 837s 2s/step - loss: 0.1724 - accuracy: 0.9486 - val_loss: 0.1013 - val_accuracy: 0.9692\n",
      "\n",
      "Epoch 00002: val_accuracy improved from 0.95719 to 0.96923, saving model to c:\\Users\\SRIRAM\\OneDrive\\Documents\\Personal\\Academics\\Final_Year_Project\\Final-Year-Project\\model\\self_trained\\distracted-02-0.97.hdf5\n",
      "Epoch 3/25\n",
      "449/449 [==============================] - 761s 2s/step - loss: 0.0981 - accuracy: 0.9707 - val_loss: 0.0720 - val_accuracy: 0.9813\n",
      "\n",
      "Epoch 00003: val_accuracy improved from 0.96923 to 0.98127, saving model to c:\\Users\\SRIRAM\\OneDrive\\Documents\\Personal\\Academics\\Final_Year_Project\\Final-Year-Project\\model\\self_trained\\distracted-03-0.98.hdf5\n",
      "Epoch 4/25\n",
      "449/449 [==============================] - 742s 2s/step - loss: 0.0728 - accuracy: 0.9788 - val_loss: 0.0641 - val_accuracy: 0.9813\n",
      "\n",
      "Epoch 00004: val_accuracy did not improve from 0.98127\n",
      "Epoch 5/25\n",
      "449/449 [==============================] - 760s 2s/step - loss: 0.0580 - accuracy: 0.9841 - val_loss: 0.0433 - val_accuracy: 0.9926\n",
      "\n",
      "Epoch 00005: val_accuracy improved from 0.98127 to 0.99264, saving model to c:\\Users\\SRIRAM\\OneDrive\\Documents\\Personal\\Academics\\Final_Year_Project\\Final-Year-Project\\model\\self_trained\\distracted-05-0.99.hdf5\n",
      "Epoch 6/25\n",
      "449/449 [==============================] - 736s 2s/step - loss: 0.0527 - accuracy: 0.9843 - val_loss: 0.0382 - val_accuracy: 0.9897\n",
      "\n",
      "Epoch 00006: val_accuracy did not improve from 0.99264\n",
      "Epoch 7/25\n",
      "449/449 [==============================] - 734s 2s/step - loss: 0.0465 - accuracy: 0.9875 - val_loss: 0.0345 - val_accuracy: 0.9933\n",
      "\n",
      "Epoch 00007: val_accuracy improved from 0.99264 to 0.99331, saving model to c:\\Users\\SRIRAM\\OneDrive\\Documents\\Personal\\Academics\\Final_Year_Project\\Final-Year-Project\\model\\self_trained\\distracted-07-0.99.hdf5\n",
      "Epoch 8/25\n",
      "449/449 [==============================] - 756s 2s/step - loss: 0.0475 - accuracy: 0.9876 - val_loss: 0.0320 - val_accuracy: 0.9933\n",
      "\n",
      "Epoch 00008: val_accuracy did not improve from 0.99331\n",
      "Epoch 9/25\n",
      "449/449 [==============================] - 831s 2s/step - loss: 0.0474 - accuracy: 0.9872 - val_loss: 0.0359 - val_accuracy: 0.9920\n",
      "\n",
      "Epoch 00009: val_accuracy did not improve from 0.99331\n",
      "Epoch 10/25\n",
      "449/449 [==============================] - 845s 2s/step - loss: 0.0409 - accuracy: 0.9895 - val_loss: 0.0687 - val_accuracy: 0.9884\n",
      "\n",
      "Epoch 00010: val_accuracy did not improve from 0.99331\n",
      "Epoch 11/25\n",
      "449/449 [==============================] - 937s 2s/step - loss: 0.0404 - accuracy: 0.9900 - val_loss: 0.0393 - val_accuracy: 0.9942\n",
      "\n",
      "Epoch 00011: val_accuracy improved from 0.99331 to 0.99420, saving model to c:\\Users\\SRIRAM\\OneDrive\\Documents\\Personal\\Academics\\Final_Year_Project\\Final-Year-Project\\model\\self_trained\\distracted-11-0.99.hdf5\n",
      "Epoch 12/25\n",
      "449/449 [==============================] - 1033s 2s/step - loss: 0.0427 - accuracy: 0.9901 - val_loss: 0.0279 - val_accuracy: 0.9933\n",
      "\n",
      "Epoch 00012: val_accuracy did not improve from 0.99420\n",
      "Epoch 13/25\n",
      "449/449 [==============================] - 945s 2s/step - loss: 0.0431 - accuracy: 0.9898 - val_loss: 0.0431 - val_accuracy: 0.9935\n",
      "\n",
      "Epoch 00013: val_accuracy did not improve from 0.99420\n",
      "Epoch 14/25\n",
      "449/449 [==============================] - 890s 2s/step - loss: 0.0390 - accuracy: 0.9908 - val_loss: 0.0541 - val_accuracy: 0.9933\n",
      "\n",
      "Epoch 00014: val_accuracy did not improve from 0.99420\n",
      "Epoch 15/25\n",
      "449/449 [==============================] - 874s 2s/step - loss: 0.0394 - accuracy: 0.9907 - val_loss: 0.0758 - val_accuracy: 0.9871\n",
      "\n",
      "Epoch 00015: val_accuracy did not improve from 0.99420\n",
      "Epoch 16/25\n",
      "449/449 [==============================] - 935s 2s/step - loss: 0.0424 - accuracy: 0.9909 - val_loss: 0.0439 - val_accuracy: 0.9935\n",
      "\n",
      "Epoch 00016: val_accuracy did not improve from 0.99420\n",
      "Epoch 17/25\n",
      "449/449 [==============================] - 1006s 2s/step - loss: 0.0426 - accuracy: 0.9905 - val_loss: 0.0627 - val_accuracy: 0.9935\n",
      "\n",
      "Epoch 00017: val_accuracy did not improve from 0.99420\n",
      "Epoch 18/25\n",
      "449/449 [==============================] - 1081s 2s/step - loss: 0.0457 - accuracy: 0.9902 - val_loss: 0.0210 - val_accuracy: 0.9946\n",
      "\n",
      "Epoch 00018: val_accuracy improved from 0.99420 to 0.99465, saving model to c:\\Users\\SRIRAM\\OneDrive\\Documents\\Personal\\Academics\\Final_Year_Project\\Final-Year-Project\\model\\self_trained\\distracted-18-0.99.hdf5\n",
      "Epoch 19/25\n",
      "449/449 [==============================] - 963s 2s/step - loss: 0.0438 - accuracy: 0.9909 - val_loss: 0.0260 - val_accuracy: 0.9953\n",
      "\n",
      "Epoch 00019: val_accuracy improved from 0.99465 to 0.99532, saving model to c:\\Users\\SRIRAM\\OneDrive\\Documents\\Personal\\Academics\\Final_Year_Project\\Final-Year-Project\\model\\self_trained\\distracted-19-1.00.hdf5\n",
      "Epoch 20/25\n",
      "449/449 [==============================] - 882s 2s/step - loss: 0.0521 - accuracy: 0.9899 - val_loss: 0.0282 - val_accuracy: 0.9949\n",
      "\n",
      "Epoch 00020: val_accuracy did not improve from 0.99532\n",
      "Epoch 21/25\n",
      "449/449 [==============================] - 885s 2s/step - loss: 0.0484 - accuracy: 0.9902 - val_loss: 0.0835 - val_accuracy: 0.9940\n",
      "\n",
      "Epoch 00021: val_accuracy did not improve from 0.99532\n",
      "Epoch 22/25\n",
      "449/449 [==============================] - 841s 2s/step - loss: 0.0510 - accuracy: 0.9898 - val_loss: 0.0349 - val_accuracy: 0.9955\n",
      "\n",
      "Epoch 00022: val_accuracy improved from 0.99532 to 0.99554, saving model to c:\\Users\\SRIRAM\\OneDrive\\Documents\\Personal\\Academics\\Final_Year_Project\\Final-Year-Project\\model\\self_trained\\distracted-22-1.00.hdf5\n",
      "Epoch 23/25\n",
      "449/449 [==============================] - 841s 2s/step - loss: 0.0544 - accuracy: 0.9893 - val_loss: 0.0335 - val_accuracy: 0.9958\n",
      "\n",
      "Epoch 00023: val_accuracy improved from 0.99554 to 0.99576, saving model to c:\\Users\\SRIRAM\\OneDrive\\Documents\\Personal\\Academics\\Final_Year_Project\\Final-Year-Project\\model\\self_trained\\distracted-23-1.00.hdf5\n",
      "Epoch 24/25\n",
      "449/449 [==============================] - 820s 2s/step - loss: 0.0504 - accuracy: 0.9910 - val_loss: 0.0465 - val_accuracy: 0.9944\n",
      "\n",
      "Epoch 00024: val_accuracy did not improve from 0.99576\n",
      "Epoch 25/25\n",
      "449/449 [==============================] - 716s 2s/step - loss: 0.0582 - accuracy: 0.9902 - val_loss: 0.0803 - val_accuracy: 0.9904\n",
      "\n",
      "Epoch 00025: val_accuracy did not improve from 0.99576\n"
     ]
    }
   ],
   "source": [
    "model_history = model.fit(train_tensors,ytrain,validation_data = (valid_tensors, ytest),epochs=25, batch_size=40, shuffle=True,callbacks=callbacks_list)"
   ]
  },
  {
   "cell_type": "code",
   "execution_count": 1,
   "metadata": {},
   "outputs": [
    {
     "ename": "NameError",
     "evalue": "name 'plt' is not defined",
     "output_type": "error",
     "traceback": [
      "\u001b[1;31m---------------------------------------------------------------------------\u001b[0m",
      "\u001b[1;31mNameError\u001b[0m                                 Traceback (most recent call last)",
      "\u001b[1;32m<ipython-input-1-5d36497a755d>\u001b[0m in \u001b[0;36m<module>\u001b[1;34m\u001b[0m\n\u001b[1;32m----> 1\u001b[1;33m \u001b[0mfig\u001b[0m\u001b[1;33m,\u001b[0m \u001b[1;33m(\u001b[0m\u001b[0max1\u001b[0m\u001b[1;33m,\u001b[0m \u001b[0max2\u001b[0m\u001b[1;33m)\u001b[0m \u001b[1;33m=\u001b[0m \u001b[0mplt\u001b[0m\u001b[1;33m.\u001b[0m\u001b[0msubplots\u001b[0m\u001b[1;33m(\u001b[0m\u001b[1;36m2\u001b[0m\u001b[1;33m,\u001b[0m \u001b[1;36m1\u001b[0m\u001b[1;33m,\u001b[0m \u001b[0mfigsize\u001b[0m\u001b[1;33m=\u001b[0m\u001b[1;33m(\u001b[0m\u001b[1;36m12\u001b[0m\u001b[1;33m,\u001b[0m \u001b[1;36m12\u001b[0m\u001b[1;33m)\u001b[0m\u001b[1;33m)\u001b[0m\u001b[1;33m\u001b[0m\u001b[1;33m\u001b[0m\u001b[0m\n\u001b[0m\u001b[0;32m      2\u001b[0m \u001b[0max1\u001b[0m\u001b[1;33m.\u001b[0m\u001b[0mplot\u001b[0m\u001b[1;33m(\u001b[0m\u001b[0mmodel_history\u001b[0m\u001b[1;33m.\u001b[0m\u001b[0mhistory\u001b[0m\u001b[1;33m[\u001b[0m\u001b[1;34m'loss'\u001b[0m\u001b[1;33m]\u001b[0m\u001b[1;33m,\u001b[0m \u001b[0mcolor\u001b[0m\u001b[1;33m=\u001b[0m\u001b[1;34m'b'\u001b[0m\u001b[1;33m,\u001b[0m \u001b[0mlabel\u001b[0m\u001b[1;33m=\u001b[0m\u001b[1;34m\"Training loss\"\u001b[0m\u001b[1;33m)\u001b[0m\u001b[1;33m\u001b[0m\u001b[1;33m\u001b[0m\u001b[0m\n\u001b[0;32m      3\u001b[0m \u001b[0max1\u001b[0m\u001b[1;33m.\u001b[0m\u001b[0mplot\u001b[0m\u001b[1;33m(\u001b[0m\u001b[0mmodel_history\u001b[0m\u001b[1;33m.\u001b[0m\u001b[0mhistory\u001b[0m\u001b[1;33m[\u001b[0m\u001b[1;34m'val_loss'\u001b[0m\u001b[1;33m]\u001b[0m\u001b[1;33m,\u001b[0m \u001b[0mcolor\u001b[0m\u001b[1;33m=\u001b[0m\u001b[1;34m'r'\u001b[0m\u001b[1;33m,\u001b[0m \u001b[0mlabel\u001b[0m\u001b[1;33m=\u001b[0m\u001b[1;34m\"validation loss\"\u001b[0m\u001b[1;33m)\u001b[0m\u001b[1;33m\u001b[0m\u001b[1;33m\u001b[0m\u001b[0m\n\u001b[0;32m      4\u001b[0m \u001b[0max1\u001b[0m\u001b[1;33m.\u001b[0m\u001b[0mset_xticks\u001b[0m\u001b[1;33m(\u001b[0m\u001b[0mnp\u001b[0m\u001b[1;33m.\u001b[0m\u001b[0marange\u001b[0m\u001b[1;33m(\u001b[0m\u001b[1;36m1\u001b[0m\u001b[1;33m,\u001b[0m \u001b[1;36m25\u001b[0m\u001b[1;33m,\u001b[0m \u001b[1;36m1\u001b[0m\u001b[1;33m)\u001b[0m\u001b[1;33m)\u001b[0m\u001b[1;33m\u001b[0m\u001b[1;33m\u001b[0m\u001b[0m\n\u001b[0;32m      5\u001b[0m \u001b[0max1\u001b[0m\u001b[1;33m.\u001b[0m\u001b[0mset_yticks\u001b[0m\u001b[1;33m(\u001b[0m\u001b[0mnp\u001b[0m\u001b[1;33m.\u001b[0m\u001b[0marange\u001b[0m\u001b[1;33m(\u001b[0m\u001b[1;36m0\u001b[0m\u001b[1;33m,\u001b[0m \u001b[1;36m1\u001b[0m\u001b[1;33m,\u001b[0m \u001b[1;36m0.1\u001b[0m\u001b[1;33m)\u001b[0m\u001b[1;33m)\u001b[0m\u001b[1;33m\u001b[0m\u001b[1;33m\u001b[0m\u001b[0m\n",
      "\u001b[1;31mNameError\u001b[0m: name 'plt' is not defined"
     ]
    }
   ],
   "source": [
    "fig, (ax1, ax2) = plt.subplots(2, 1, figsize=(12, 12))\n",
    "ax1.plot(model_history.history['loss'], color='b', label=\"Training loss\")\n",
    "ax1.plot(model_history.history['val_loss'], color='r', label=\"validation loss\")\n",
    "ax1.set_xticks(np.arange(1, 25, 1))\n",
    "ax1.set_yticks(np.arange(0, 1, 0.1))\n",
    "\n",
    "ax2.plot(model_history.history['accuracy'], color='b', label=\"Training accuracy\")\n",
    "ax2.plot(model_history.history['val_accuracy'], color='r',label=\"Validation accuracy\")\n",
    "ax2.set_xticks(np.arange(1, 25, 1))\n",
    "\n",
    "legend = plt.legend(loc='best', shadow=True)\n",
    "plt.tight_layout()\n",
    "plt.show()"
   ]
  }
 ],
 "metadata": {
  "interpreter": {
   "hash": "1ee4784502f22c791f4aad474eada1f04ffa3b3f5be6de76313108a032fb3e03"
  },
  "kernelspec": {
   "display_name": "Python 3.9.5 64-bit",
   "language": "python",
   "name": "python3"
  },
  "language_info": {
   "codemirror_mode": {
    "name": "ipython",
    "version": 3
   },
   "file_extension": ".py",
   "mimetype": "text/x-python",
   "name": "python",
   "nbconvert_exporter": "python",
   "pygments_lexer": "ipython3",
   "version": "3.9.5"
  },
  "orig_nbformat": 4
 },
 "nbformat": 4,
 "nbformat_minor": 2
}
