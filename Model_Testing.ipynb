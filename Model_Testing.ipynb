{
 "cells": [
  {
   "cell_type": "code",
   "execution_count": 171,
   "metadata": {},
   "outputs": [],
   "source": [
    "import PIL\n",
    "import json\n",
    "import numpy as np\n",
    "import matplotlib.pyplot as plt\n",
    "from PIL import Image,ImageOps,ImageFilter\n",
    "import keras\n",
    "from keras import layers\n",
    "import os\n",
    "from tensorflow.keras.utils import Sequence\n",
    "from tensorflow.keras import Sequential\n",
    "import tensorflow as tf\n",
    "from keras.preprocessing import image  \n",
    "import cv2\n",
    "import pickle"
   ]
  },
  {
   "cell_type": "code",
   "execution_count": 18,
   "metadata": {},
   "outputs": [],
   "source": [
    "from PIL import Image\n",
    "from PIL import ImageDraw\n",
    "from PIL import ImageFont\n",
    "\n",
    "img = Image.open('car_test_2.jpg')\n",
    "I1 = ImageDraw.Draw(img)\n",
    "font = ImageFont.truetype(\"arial.ttf\", 50)\n",
    "I1.text((28, 36), class_name[res], font=font, fill=(0, 255, 0))\n",
    "img.save(\"car_1.jpg\")"
   ]
  },
  {
   "cell_type": "code",
   "execution_count": 172,
   "metadata": {},
   "outputs": [],
   "source": [
    "from keras.models import load_model\n",
    "model_best = load_model('model/self_trained/distracted-25-0.99.hdf5')"
   ]
  },
  {
   "cell_type": "code",
   "execution_count": 513,
   "metadata": {},
   "outputs": [],
   "source": [
    "def path_to_tensor(img_path):\n",
    "    # loads RGB image as PIL.Image.Image type\n",
    "    #img = image.load_img(img_path)\n",
    "    img = cv2.imread(img_path)\n",
    "    img = cv2.resize(img, dsize=(128, 128), interpolation=cv2.INTER_CUBIC)\n",
    "    # convert PIL.Image.Image type to 3D tensor with shape (128, 128, 3)\n",
    "    x = image.img_to_array(img)\n",
    "    # convert 3D tensor to 4D tensor with shape (1, 128, 128, 3) and return 4D tensor\n",
    "    return np.expand_dims(x, axis=0)"
   ]
  },
  {
   "cell_type": "code",
   "execution_count": 173,
   "metadata": {},
   "outputs": [
    {
     "name": "stdout",
     "output_type": "stream",
     "text": [
      "{'c6': 0, 'c7': 1, 'c3': 2, 'c1': 3, 'c2': 4, 'c9': 5, 'c0': 6, 'c5': 7, 'c8': 8, 'c4': 9}\n"
     ]
    }
   ],
   "source": [
    "infile = open(\"pickle_files/labels_list.pkl\",'rb')\n",
    "new_dict = pickle.load(infile)\n",
    "infile.close()\n",
    "print(new_dict)"
   ]
  },
  {
   "cell_type": "code",
   "execution_count": 624,
   "metadata": {},
   "outputs": [],
   "source": [
    "from PIL import ImageFile    \n",
    "from keras.applications.vgg16 import VGG16  \n",
    "ImageFile.LOAD_TRUNCATED_IMAGES = True     \n",
    "\n",
    "test_tensors = path_to_tensor('car_test_11.jpg').astype('float32')/255 - 0.5"
   ]
  },
  {
   "cell_type": "code",
   "execution_count": 625,
   "metadata": {},
   "outputs": [
    {
     "name": "stdout",
     "output_type": "stream",
     "text": [
      "1/1 [==============================] - 0s 60ms/step\n"
     ]
    }
   ],
   "source": [
    "ypred_test = model_best.predict(test_tensors,verbose=1)\n",
    "ypred_class = np.argmax(ypred_test,axis=1)"
   ]
  },
  {
   "cell_type": "code",
   "execution_count": 626,
   "metadata": {},
   "outputs": [
    {
     "name": "stdout",
     "output_type": "stream",
     "text": [
      "[3]\n"
     ]
    }
   ],
   "source": [
    "print(ypred_class)"
   ]
  },
  {
   "cell_type": "code",
   "execution_count": 627,
   "metadata": {},
   "outputs": [],
   "source": [
    "infile = open(\"pickle_files/labels_list.pkl\",'rb')\n",
    "labels_id = pickle.load(infile)\n",
    "infile.close()"
   ]
  },
  {
   "cell_type": "code",
   "execution_count": 628,
   "metadata": {},
   "outputs": [
    {
     "name": "stdout",
     "output_type": "stream",
     "text": [
      "{0: 'c6', 1: 'c7', 2: 'c3', 3: 'c1', 4: 'c2', 5: 'c9', 6: 'c0', 7: 'c5', 8: 'c8', 9: 'c4'}\n"
     ]
    }
   ],
   "source": [
    "id_labels = dict()\n",
    "for class_name,idx in labels_id.items():\n",
    "    id_labels[idx] = class_name\n",
    "print(id_labels)\n",
    "ypred_class = int(ypred_class)\n",
    "res = id_labels[ypred_class]"
   ]
  },
  {
   "cell_type": "code",
   "execution_count": 629,
   "metadata": {},
   "outputs": [
    {
     "name": "stdout",
     "output_type": "stream",
     "text": [
      "TEXTING_RIGHT\n"
     ]
    }
   ],
   "source": [
    "class_name = dict()\n",
    "class_name[\"c0\"] = \"SAFE_DRIVING\"\n",
    "class_name[\"c1\"] = \"TEXTING_RIGHT\"\n",
    "class_name[\"c2\"] = \"TALKING_PHONE_RIGHT\"\n",
    "class_name[\"c3\"] = \"TEXTING_LEFT\"\n",
    "class_name[\"c4\"] = \"TALKING_PHONE_LEFT\"\n",
    "class_name[\"c5\"] = \"OPERATING_RADIO\"\n",
    "class_name[\"c6\"] = \"DRINKING\"\n",
    "class_name[\"c7\"] = \"REACHING_BEHIND\"\n",
    "class_name[\"c8\"] = \"HAIR_AND_MAKEUP\"\n",
    "class_name[\"c9\"] = \"TALKING_TO_PASSENGER\"\n",
    "\n",
    "print(class_name[res])"
   ]
  }
 ],
 "metadata": {
  "interpreter": {
   "hash": "94b759bce3ec57a220ada410a8d504e00880875d47611acbbf97ee54ad47af53"
  },
  "kernelspec": {
   "display_name": "Python 3.9.5 64-bit",
   "language": "python",
   "name": "python3"
  },
  "language_info": {
   "codemirror_mode": {
    "name": "ipython",
    "version": 3
   },
   "file_extension": ".py",
   "mimetype": "text/x-python",
   "name": "python",
   "nbconvert_exporter": "python",
   "pygments_lexer": "ipython3",
   "version": "3.9.5"
  },
  "orig_nbformat": 4
 },
 "nbformat": 4,
 "nbformat_minor": 2
}
