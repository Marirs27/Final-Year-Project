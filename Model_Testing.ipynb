{
 "cells": [
  {
   "cell_type": "code",
   "execution_count": 74,
   "metadata": {},
   "outputs": [],
   "source": [
    "import PIL\n",
    "import numpy as np\n",
    "import matplotlib.pyplot as plt\n",
    "from PIL import Image,ImageOps,ImageFilter\n",
    "import keras\n",
    "from keras import layers\n",
    "import os\n",
    "from tensorflow.keras.utils import Sequence\n",
    "from tensorflow.keras import Sequential\n",
    "import tensorflow as tf\n",
    "from keras.preprocessing import image  \n",
    "import cv2\n",
    "import pickle"
   ]
  },
  {
   "cell_type": "code",
   "execution_count": 12,
   "metadata": {},
   "outputs": [],
   "source": [
    "from keras.models import load_model\n",
    "model = load_model('model\\self_trained\\distracted-23-1.00.hdf5')"
   ]
  },
  {
   "cell_type": "code",
   "execution_count": 5,
   "metadata": {},
   "outputs": [],
   "source": [
    "image = PIL.Image.open(\"car_test_1.jpg\")\n",
    "image = image.resize((64,64))"
   ]
  },
  {
   "cell_type": "code",
   "execution_count": 13,
   "metadata": {},
   "outputs": [],
   "source": [
    "def path_to_tensor(img_path):\n",
    "    # loads RGB image as PIL.Image.Image type\n",
    "    img = image.load_img(img_path, target_size=(128, 128))\n",
    "    # convert PIL.Image.Image type to 3D tensor with shape (224, 224, 3)\n",
    "    x = image.img_to_array(img)\n",
    "    # convert 3D tensor to 4D tensor with shape (1, 224, 224, 3) and return 4D tensor\n",
    "    return np.expand_dims(x, axis=0)"
   ]
  },
  {
   "cell_type": "code",
   "execution_count": 14,
   "metadata": {},
   "outputs": [],
   "source": [
    "from PIL import ImageFile                            \n",
    "ImageFile.LOAD_TRUNCATED_IMAGES = True \n",
    "\n",
    "test_tensor = path_to_tensor(\"car_test_1.jpg\").astype('float32')/255 - 0.5"
   ]
  },
  {
   "cell_type": "code",
   "execution_count": 15,
   "metadata": {},
   "outputs": [],
   "source": [
    "y_pred = model.predict_classes(test_tensor)"
   ]
  },
  {
   "cell_type": "code",
   "execution_count": 16,
   "metadata": {},
   "outputs": [
    {
     "name": "stdout",
     "output_type": "stream",
     "text": [
      "0\n"
     ]
    }
   ],
   "source": [
    "ypred_class = np.argmax(y_pred)\n",
    "print(ypred_class)"
   ]
  },
  {
   "cell_type": "code",
   "execution_count": 26,
   "metadata": {},
   "outputs": [
    {
     "name": "stdout",
     "output_type": "stream",
     "text": [
      "{'c3': 0, 'c9': 1, 'c2': 2, 'c4': 3, 'c6': 4, 'c1': 5, 'c8': 6, 'c5': 7, 'c0': 8, 'c7': 9}\n"
     ]
    }
   ],
   "source": [
    "infile = open(\"pickle_files\\labels_list.pkl\",'rb')\n",
    "new_dict = pickle.load(infile)\n",
    "infile.close()\n",
    "print(new_dict)"
   ]
  },
  {
   "cell_type": "code",
   "execution_count": 75,
   "metadata": {},
   "outputs": [],
   "source": [
    "from keras.models import load_model\n",
    "vgg_model = load_model('model/vgg16/distracted-168-0.92.hdf5')"
   ]
  },
  {
   "cell_type": "code",
   "execution_count": 86,
   "metadata": {},
   "outputs": [],
   "source": [
    "def path_to_tensor_vgg(img_path):\n",
    "    # loads RGB image as PIL.Image.Image type\n",
    "    #img = image.load_img(img_path)\n",
    "    img = cv2.imread(img_path)\n",
    "    img = cv2.resize(img, dsize=(128, 128), interpolation=cv2.INTER_CUBIC)\n",
    "    # convert PIL.Image.Image type to 3D tensor with shape (128, 128, 3)\n",
    "    x = image.img_to_array(img)\n",
    "    # convert 3D tensor to 4D tensor with shape (1, 128, 128, 3) and return 4D tensor\n",
    "    return np.expand_dims(x, axis=0)"
   ]
  },
  {
   "cell_type": "code",
   "execution_count": 129,
   "metadata": {},
   "outputs": [
    {
     "name": "stdout",
     "output_type": "stream",
     "text": [
      "{'c3': 0, 'c4': 1, 'c1': 2, 'c8': 3, 'c2': 4, 'c6': 5, 'c7': 6, 'c0': 7, 'c9': 8, 'c5': 9}\n"
     ]
    }
   ],
   "source": [
    "infile = open(\"pickle\\labels_list_vgg16.pkl\",'rb')\n",
    "new_dict = pickle.load(infile)\n",
    "infile.close()\n",
    "print(new_dict)"
   ]
  },
  {
   "cell_type": "code",
   "execution_count": 130,
   "metadata": {},
   "outputs": [],
   "source": [
    "ImageFile.LOAD_TRUNCATED_IMAGES = True                 \n",
    "vgg_test_tensor = path_to_tensor_vgg('car_test_8.jpg').astype('float32')/255 - 0.5"
   ]
  },
  {
   "cell_type": "code",
   "execution_count": 131,
   "metadata": {},
   "outputs": [
    {
     "name": "stdout",
     "output_type": "stream",
     "text": [
      "1/1 [==============================] - 0s 68ms/step\n"
     ]
    }
   ],
   "source": [
    "ypred_test = model.predict(vgg_test_tensor,verbose=1)\n",
    "ypred_class = np.argmax(ypred_test,axis=1)"
   ]
  },
  {
   "cell_type": "code",
   "execution_count": 132,
   "metadata": {},
   "outputs": [
    {
     "name": "stdout",
     "output_type": "stream",
     "text": [
      "[4]\n"
     ]
    }
   ],
   "source": [
    "print(ypred_class)"
   ]
  }
 ],
 "metadata": {
  "interpreter": {
   "hash": "1ee4784502f22c791f4aad474eada1f04ffa3b3f5be6de76313108a032fb3e03"
  },
  "kernelspec": {
   "display_name": "Python 3.9.5 64-bit",
   "language": "python",
   "name": "python3"
  },
  "language_info": {
   "codemirror_mode": {
    "name": "ipython",
    "version": 3
   },
   "file_extension": ".py",
   "mimetype": "text/x-python",
   "name": "python",
   "nbconvert_exporter": "python",
   "pygments_lexer": "ipython3",
   "version": "3.9.5"
  },
  "orig_nbformat": 4
 },
 "nbformat": 4,
 "nbformat_minor": 2
}
